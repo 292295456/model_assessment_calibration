{
 "cells": [
  {
   "cell_type": "markdown",
   "metadata": {},
   "source": [
    "# Model Assessment"
   ]
  },
  {
   "cell_type": "markdown",
   "metadata": {},
   "source": [
    "We have discussed different types of models and different strategies for fitting them (i.e. cross-validation, regularization, etc.). However, how do we evaluate the performance of our models after they have been fit? We have already looked at metrics like the Mean Square Error (For Regression):"
   ]
  },
  {
   "cell_type": "markdown",
   "metadata": {},
   "source": [
    "$$ MSE =  \\frac{1}{N}\\sum_{i=1}^{n}(y_i - \\hat{y_i}))^2$$"
   ]
  },
  {
   "cell_type": "markdown",
   "metadata": {},
   "source": [
    "and the log-loss/cross-entropy loss (for classification)"
   ]
  },
  {
   "cell_type": "markdown",
   "metadata": {},
   "source": [
    "\n",
    "$$loss =  y \\log \\hat{y} + (1-y) \\log (1 - \\hat{y}) $$"
   ]
  },
  {
   "cell_type": "markdown",
   "metadata": {},
   "source": [
    "However, these are usually not adequate to fully characterize the performance of a model. Specificically, we will take a look at how to assess the output of binary classification problems. Given the log loss does not really tell you how well your model is doing in a comprehensible format. To understand how well a model is actually performing, we will need to look at the Confusion Matrix:"
   ]
  },
  {
   "cell_type": "markdown",
   "metadata": {},
   "source": [
    "## Confusion Matrix"
   ]
  },
  {
   "cell_type": "markdown",
   "metadata": {},
   "source": [
    "A confusion matrix can be created by looking at the performance of the model on test examples. We denote the \"positive\" case arbitrarily as being 1 and the \"negative\" case to be 0."
   ]
  },
  {
   "cell_type": "markdown",
   "metadata": {},
   "source": [
    "The following figure it taken from the wikipedia article on the confusion matrix, which is a great resource: https://en.wikipedia.org/wiki/Confusion_matrix"
   ]
  },
  {
   "cell_type": "markdown",
   "metadata": {},
   "source": [
    "![](./assets/confusion_matrix.png)"
   ]
  },
  {
   "cell_type": "markdown",
   "metadata": {},
   "source": [
    "#### True Positive (TP)"
   ]
  },
  {
   "cell_type": "markdown",
   "metadata": {},
   "source": [
    "A true positive occurs when the true value is positive and the predicted value is also positive."
   ]
  },
  {
   "cell_type": "markdown",
   "metadata": {},
   "source": [
    "#### False Positive (FP)"
   ]
  },
  {
   "cell_type": "markdown",
   "metadata": {},
   "source": [
    "A false positive occurs when the true value is negative, but the predicted value is positive."
   ]
  },
  {
   "cell_type": "markdown",
   "metadata": {},
   "source": [
    "#### False Negative (FN)"
   ]
  },
  {
   "cell_type": "markdown",
   "metadata": {},
   "source": [
    "A false negative occurs when the true value is positive, but the predicted value is negative."
   ]
  },
  {
   "cell_type": "markdown",
   "metadata": {},
   "source": [
    "#### True Negative (TN)"
   ]
  },
  {
   "cell_type": "markdown",
   "metadata": {},
   "source": [
    "A true negative occurs when the true value is negative, and the predicted value is also negative."
   ]
  },
  {
   "cell_type": "markdown",
   "metadata": {},
   "source": [
    "## Metrics:\n",
    "With those definitions out of the way, we can look at different methods for evaluating binary classification models:"
   ]
  },
  {
   "cell_type": "markdown",
   "metadata": {},
   "source": [
    "### Accuracy:"
   ]
  },
  {
   "cell_type": "markdown",
   "metadata": {},
   "source": [
    "Accuracy, using the terms defined above, is equivalent to: "
   ]
  },
  {
   "cell_type": "markdown",
   "metadata": {},
   "source": [
    "$$ \\frac{TP + TN}{TP + TN + FP + FN} $$"
   ]
  },
  {
   "cell_type": "markdown",
   "metadata": {},
   "source": [
    "In other words, it is simply the proportion of correctly classified examples. However, accuracy is generally *not* a good measure of model performance. For example, given an imbalanced class distribution such as 98% with positive class 1 and the remaining 2% with negative class 0, a model could have an accuracy of 98% if it simply predicted the positive class every time. Clearly this is not the model that are looking for, and so accuracy tends not to be a useful measure in and of itself."
   ]
  },
  {
   "cell_type": "markdown",
   "metadata": {},
   "source": [
    "Instead, we generally want to look at things like the Sensitivity and Specificity."
   ]
  },
  {
   "cell_type": "markdown",
   "metadata": {},
   "source": [
    "**Note**: Because of their use in different contexts, these terms often have many different names, which is... frustrating at times. However, the more you see them, the more you will begin to learn the correct terms. In the worst case, you can always look them up."
   ]
  },
  {
   "cell_type": "markdown",
   "metadata": {},
   "source": [
    "## Sensitivity"
   ]
  },
  {
   "cell_type": "markdown",
   "metadata": {},
   "source": [
    "The True Positive Rate (TPR), also known as **Sensitivity** or **Recall**, is given by:\n",
    "\n",
    "$$\\frac{TP}{TP + FN}$$\n",
    "\n",
    "In other words, it represents the proportion of positive examples (in total) that are classified as positive."
   ]
  },
  {
   "cell_type": "markdown",
   "metadata": {
    "slideshow": {
     "slide_type": "slide"
    }
   },
   "source": [
    "##  Specificity"
   ]
  },
  {
   "cell_type": "markdown",
   "metadata": {},
   "source": [
    "The True Negative Rate (TNR), also known as **Specificity**, is the proportion of negative examples that are correctly classified as negative.\n",
    "\n",
    "$$ \\frac{TN}{TN + FP} $$\n"
   ]
  },
  {
   "cell_type": "markdown",
   "metadata": {},
   "source": [
    "![](./assets/Sensitivity_and_specificity.svg)"
   ]
  },
  {
   "cell_type": "markdown",
   "metadata": {},
   "source": [
    "## Thresholding"
   ]
  },
  {
   "cell_type": "markdown",
   "metadata": {},
   "source": [
    "For classification models that output a probability, we need to define a *threshold*. An example of this is in the case of logistic regression."
   ]
  },
  {
   "cell_type": "markdown",
   "metadata": {},
   "source": [
    "Recall that the model for logistic regression is as follows:\n",
    "\n",
    "$$ P(Y=1|X) = \\frac{e^{\\boldsymbol{w}^T \\boldsymbol{x}}}{1 + e^{\\boldsymbol{w}^T \\boldsymbol{x}}} $$"
   ]
  },
  {
   "cell_type": "markdown",
   "metadata": {},
   "source": [
    "However, note that for the confusion matrix above, we need to have a 1 or 0. P(Y=1|X) is not 1 or 0, it is a number in between (we are modeling a probability)."
   ]
  },
  {
   "cell_type": "markdown",
   "metadata": {},
   "source": [
    "It is important to choose a threshold in this case. We can define a threshold, $t$, as being a value so that our predictions in logistic regression (or any other probabilistic classifier) are:\n",
    "\n",
    "1 if $\\hat{y}$ is greater than $t$ and 0 otherwise."
   ]
  },
  {
   "cell_type": "markdown",
   "metadata": {},
   "source": [
    "By default, 0.5 is the choice for logistic regression."
   ]
  },
  {
   "cell_type": "markdown",
   "metadata": {},
   "source": [
    "#### Different values of $t$ can lead to different confusion matrices!"
   ]
  },
  {
   "cell_type": "markdown",
   "metadata": {},
   "source": [
    "For example, if a classifier has 4 test examples and predicts the following probabilities:\n",
    "\n",
    "$$ \\{0.35, 0.4, 0.6, 0.8\\}$$\n",
    "\n",
    "where the true classes are\n",
    "\n",
    "$$ \\{0, 1, 1, 1 \\} $$\n",
    "\n",
    "\n",
    "Using the default threshold of 0.5, our predicted classes become:\n",
    "\n",
    "$$ \\{0, 0, 1, 1\\}$$\n",
    "\n",
    "and the associated confusion matrix:\n",
    "\n",
    "$$ \\begin{bmatrix}2 & 0 \\\\ 1 & 1\\end{bmatrix} $$"
   ]
  },
  {
   "cell_type": "markdown",
   "metadata": {},
   "source": [
    "However, if we instead choose a threshold of 0.45, our predicted classes become:\n",
    "\n",
    "$$ \\{0, 0, 1, 1\\} $$\n",
    "\n",
    "leading to the perfect confusion matrix:\n",
    "\n",
    "$$ \\begin{bmatrix} 2 & 0 \\\\ 0 & 2 \\end{bmatrix} $$"
   ]
  },
  {
   "cell_type": "markdown",
   "metadata": {},
   "source": [
    "However, how do we compare classifiers if there are many different confusion matrices that arise depending on our choice of threshold? In other words, is there a *threshold-agnostic* method for comparing classifiers?"
   ]
  },
  {
   "cell_type": "markdown",
   "metadata": {},
   "source": [
    "## Receiver Operating Characteristic (ROC)"
   ]
  },
  {
   "cell_type": "markdown",
   "metadata": {},
   "source": [
    "If different values of a threshold value $t$ can result in different confusion matrices, how can we compare different models against each other? Here, we introduce the Receiver Operating Characteristic (ROC)"
   ]
  },
  {
   "cell_type": "markdown",
   "metadata": {},
   "source": [
    "The Receiver operating characteristic is a plot that has the sensitivity on the y-axis, and 1 - specificity on the x-axis. Let's take a look at an example:"
   ]
  },
  {
   "cell_type": "code",
   "execution_count": 5,
   "metadata": {},
   "outputs": [],
   "source": [
    "import pandas as pd\n",
    "model1_predictions = pd.read_csv(\"./assets/example_output.csv\")"
   ]
  },
  {
   "cell_type": "code",
   "execution_count": 6,
   "metadata": {},
   "outputs": [
    {
     "data": {
      "text/html": [
       "<div>\n",
       "<style scoped>\n",
       "    .dataframe tbody tr th:only-of-type {\n",
       "        vertical-align: middle;\n",
       "    }\n",
       "\n",
       "    .dataframe tbody tr th {\n",
       "        vertical-align: top;\n",
       "    }\n",
       "\n",
       "    .dataframe thead th {\n",
       "        text-align: right;\n",
       "    }\n",
       "</style>\n",
       "<table border=\"1\" class=\"dataframe\">\n",
       "  <thead>\n",
       "    <tr style=\"text-align: right;\">\n",
       "      <th></th>\n",
       "      <th>outcome</th>\n",
       "      <th>prediction</th>\n",
       "    </tr>\n",
       "  </thead>\n",
       "  <tbody>\n",
       "    <tr>\n",
       "      <th>0</th>\n",
       "      <td>1</td>\n",
       "      <td>0.988018</td>\n",
       "    </tr>\n",
       "    <tr>\n",
       "      <th>1</th>\n",
       "      <td>1</td>\n",
       "      <td>0.986377</td>\n",
       "    </tr>\n",
       "    <tr>\n",
       "      <th>2</th>\n",
       "      <td>1</td>\n",
       "      <td>0.981420</td>\n",
       "    </tr>\n",
       "    <tr>\n",
       "      <th>3</th>\n",
       "      <td>1</td>\n",
       "      <td>0.980582</td>\n",
       "    </tr>\n",
       "    <tr>\n",
       "      <th>4</th>\n",
       "      <td>1</td>\n",
       "      <td>0.975002</td>\n",
       "    </tr>\n",
       "  </tbody>\n",
       "</table>\n",
       "</div>"
      ],
      "text/plain": [
       "   outcome  prediction\n",
       "0        1    0.988018\n",
       "1        1    0.986377\n",
       "2        1    0.981420\n",
       "3        1    0.980582\n",
       "4        1    0.975002"
      ]
     },
     "execution_count": 6,
     "metadata": {},
     "output_type": "execute_result"
    }
   ],
   "source": [
    "model1_predictions.head()"
   ]
  },
  {
   "cell_type": "code",
   "execution_count": 7,
   "metadata": {},
   "outputs": [],
   "source": [
    "model2_predictions = pd.read_csv(\"./assets/example_output2.csv\")"
   ]
  },
  {
   "cell_type": "code",
   "execution_count": 8,
   "metadata": {},
   "outputs": [
    {
     "data": {
      "text/html": [
       "<div>\n",
       "<style scoped>\n",
       "    .dataframe tbody tr th:only-of-type {\n",
       "        vertical-align: middle;\n",
       "    }\n",
       "\n",
       "    .dataframe tbody tr th {\n",
       "        vertical-align: top;\n",
       "    }\n",
       "\n",
       "    .dataframe thead th {\n",
       "        text-align: right;\n",
       "    }\n",
       "</style>\n",
       "<table border=\"1\" class=\"dataframe\">\n",
       "  <thead>\n",
       "    <tr style=\"text-align: right;\">\n",
       "      <th></th>\n",
       "      <th>outcome</th>\n",
       "      <th>prediction</th>\n",
       "    </tr>\n",
       "  </thead>\n",
       "  <tbody>\n",
       "    <tr>\n",
       "      <th>0</th>\n",
       "      <td>0</td>\n",
       "      <td>0.983176</td>\n",
       "    </tr>\n",
       "    <tr>\n",
       "      <th>1</th>\n",
       "      <td>1</td>\n",
       "      <td>0.972331</td>\n",
       "    </tr>\n",
       "    <tr>\n",
       "      <th>2</th>\n",
       "      <td>1</td>\n",
       "      <td>0.932701</td>\n",
       "    </tr>\n",
       "    <tr>\n",
       "      <th>3</th>\n",
       "      <td>0</td>\n",
       "      <td>0.908685</td>\n",
       "    </tr>\n",
       "    <tr>\n",
       "      <th>4</th>\n",
       "      <td>1</td>\n",
       "      <td>0.907392</td>\n",
       "    </tr>\n",
       "  </tbody>\n",
       "</table>\n",
       "</div>"
      ],
      "text/plain": [
       "   outcome  prediction\n",
       "0        0    0.983176\n",
       "1        1    0.972331\n",
       "2        1    0.932701\n",
       "3        0    0.908685\n",
       "4        1    0.907392"
      ]
     },
     "execution_count": 8,
     "metadata": {},
     "output_type": "execute_result"
    }
   ],
   "source": [
    "model2_predictions.head()"
   ]
  },
  {
   "cell_type": "markdown",
   "metadata": {},
   "source": [
    "### The ROC curve shows the sensitivity and specificity for EACH possible threshold"
   ]
  },
  {
   "cell_type": "code",
   "execution_count": 9,
   "metadata": {},
   "outputs": [],
   "source": [
    "from sklearn import metrics"
   ]
  },
  {
   "cell_type": "code",
   "execution_count": 11,
   "metadata": {},
   "outputs": [],
   "source": [
    "spec1, sens1, thresholds = metrics.roc_curve(model1_predictions['outcome'].values, model1_predictions['prediction'].values)"
   ]
  },
  {
   "cell_type": "code",
   "execution_count": 13,
   "metadata": {},
   "outputs": [],
   "source": [
    "import matplotlib.pyplot as plt"
   ]
  },
  {
   "cell_type": "code",
   "execution_count": 37,
   "metadata": {
    "scrolled": true
   },
   "outputs": [
    {
     "data": {
      "image/png": "[encoded data removed]",
      "text/plain": [
       "<Figure size 432x288 with 1 Axes>"
      ]
     },
     "metadata": {
      "needs_background": "light"
     },
     "output_type": "display_data"
    }
   ],
   "source": [
    "plt.plot(spec1, sens1)\n",
    "plt.plot([1, 0],[1, 0], linestyle = \"--\")\n",
    "plt.title('Recevier Operating Characteristic for Model 1')\n",
    "plt.xlabel('1 - Specificity')\n",
    "plt.ylabel('Sensitivity')\n",
    "plt.show()"
   ]
  },
  {
   "cell_type": "markdown",
   "metadata": {},
   "source": [
    "In the figure above, every possible threshold is represented. A way to think about this is as follows: \n",
    " * Towards the lower left portion of the plot, we have low sensitivity, but high specificity. This means that we almost never correctly classify a positive example, but most negative examples are correctly specified. This corresponds to having a very high threshold. \n",
    " * Towards the top right of the plot, we have a very high sensitivity, but low specificity. This means that virtually all positive examples are classified correctly, but many negative examples are not correctly classfied. This means we have a very low threshold. "
   ]
  },
  {
   "cell_type": "markdown",
   "metadata": {},
   "source": [
    "The goal of a classifier is to simultaneously aim for a high sensitivity as well as high specificity, which would bring us to the top left of the plot. We can also compare two classifiers by plotting them on the same plot.\n"
   ]
  },
  {
   "cell_type": "code",
   "execution_count": 38,
   "metadata": {},
   "outputs": [],
   "source": [
    "spec2, sens2, thresholds = metrics.roc_curve(model2_predictions['outcome'].values, model2_predictions['prediction'].values)"
   ]
  },
  {
   "cell_type": "code",
   "execution_count": 41,
   "metadata": {},
   "outputs": [
    {
     "data": {
      "image/png": "[encoded data removed]",
      "text/plain": [
       "<Figure size 432x288 with 1 Axes>"
      ]
     },
     "metadata": {
      "needs_background": "light"
     },
     "output_type": "display_data"
    }
   ],
   "source": [
    "plt.plot(spec1, sens1, label = \"model1\", alpha = 0.7)\n",
    "plt.plot(spec2, sens2, label = \"model2\", alpha = 0.7)\n",
    "plt.plot([1, 0],[1, 0], linestyle = \"--\")\n",
    "plt.legend()\n",
    "plt.title('Recevier Operating Characteristic for Model 1')\n",
    "plt.xlabel('1 - Specificity')\n",
    "plt.ylabel('Sensitivity')\n",
    "plt.show()"
   ]
  },
  {
   "cell_type": "markdown",
   "metadata": {},
   "source": [
    "Here, we can see that model1 tends to outperform model2. "
   ]
  },
  {
   "cell_type": "markdown",
   "metadata": {},
   "source": [
    "However, if we fit hundreds of models, it does not make sense to view them all graphically. To summarize the characteristics of a given Receiver Operating Characteristic plot, we use the Area Under the Receiver Operating Characteristic (AUROC) or just Area Under the Curve (AUC). In addition, you may see this referred to as the $c$-statistic."
   ]
  },
  {
   "cell_type": "markdown",
   "metadata": {},
   "source": [
    "The AUC, as its name suggests, is simply the area under the ROC curve. The green dotted line above shows the worst possible classifier, and has an associated AUC of 0.5. If a classifier has a lower than 0.5 AUC (meaning the curve goes towards the bottom right of the plot), one can simply reverse the predicted result to obtain a classifier that has higher than 0.5 AUC. The maximum AUC is 1.0, meaning that the model perfectly classifies every example."
   ]
  },
  {
   "cell_type": "markdown",
   "metadata": {},
   "source": [
    "The `scikit-learn` package has an AUC function, which we demonstrate below:"
   ]
  },
  {
   "cell_type": "code",
   "execution_count": 45,
   "metadata": {},
   "outputs": [
    {
     "data": {
      "text/plain": [
       "0.8411479315100603"
      ]
     },
     "execution_count": 45,
     "metadata": {},
     "output_type": "execute_result"
    }
   ],
   "source": [
    "metrics.roc_auc_score(model1_predictions['outcome'].values, model1_predictions['prediction'].values)"
   ]
  },
  {
   "cell_type": "code",
   "execution_count": 46,
   "metadata": {},
   "outputs": [
    {
     "data": {
      "text/plain": [
       "0.8139255667211965"
      ]
     },
     "execution_count": 46,
     "metadata": {},
     "output_type": "execute_result"
    }
   ],
   "source": [
    "metrics.roc_auc_score(model2_predictions['outcome'].values, model2_predictions['prediction'].values)"
   ]
  },
  {
   "cell_type": "markdown",
   "metadata": {},
   "source": [
    "### Interpretation of AUC"
   ]
  },
  {
   "cell_type": "markdown",
   "metadata": {},
   "source": [
    "One potential interpretation of an AUC is that given 2 random samples from a test set, what is the probability that a model will correctly *rank* the two in terms of output (probability, score, etc.)? Note that because the ROC is drawn using every possible threshold, there is no reason why this applies only to probabilistic models, which is one advantage of the method. "
   ]
  },
  {
   "cell_type": "markdown",
   "metadata": {},
   "source": [
    "### Problems with AUC"
   ]
  },
  {
   "cell_type": "markdown",
   "metadata": {},
   "source": [
    "Although the AUC is **by far** the most popular method for comparing and evaluating the performance of binary classification models, it is not without faults. In particular, AUCs struggle in cases where the two classes are highly imbalanced, which is true much of the time in medicine and other research areas. In other words, when the overall prevalence of the positive case is quite low, AUC may not fully reflect how well a model performs. "
   ]
  },
  {
   "cell_type": "markdown",
   "metadata": {},
   "source": [
    "Consider the following example:\n",
    "\n",
    "Let us say that there are 1,000,000 patients, 1,000 of whom have a particular disease. Now, let's say we have two models.\n",
    "\n",
    "The first model picks out 100 of the diseased patients out of 500 total tries (100 True Positivies, 400 False Positives).\n",
    "\n",
    "The second model picks out 100 of the diseased patients out of 5000 total tries. (100 True Positives, 4900 False Positives).\n",
    "\n",
    "The TPR (Sensitivity) for both classifiers up to this point is exactly the same (100 out of 1,000,000), but their False Positive Rates (1 - Specificity) are different.\n",
    "\n",
    "The False Positive Rate for model 1 is 400 / 999,000 and the False Positive Rate for model 2 is 4900 / 999,000.\n",
    "\n",
    "This is equivalent to 0.0004004 and 0.0049049, respectively. Although these are an order of magnitude apart, they don't really look too different on the ROC scale. Thus, it can be difficult to differentiate these two models, even though 1 clearly outperforms the other."
   ]
  },
  {
   "cell_type": "markdown",
   "metadata": {},
   "source": [
    "## Precision"
   ]
  },
  {
   "cell_type": "markdown",
   "metadata": {},
   "source": [
    "In order to deal with the above problem, we generally look at the Precision. The **Precision**, or **Positive Predictive Value** of a classifier, can be written as:\n",
    "\n",
    "$$ \\frac{TP}{TP + FP} $$"
   ]
  },
  {
   "cell_type": "markdown",
   "metadata": {},
   "source": [
    "This represents, of the examples which the classifier has predicted to be positive, what percentage are actually positive?"
   ]
  },
  {
   "cell_type": "markdown",
   "metadata": {},
   "source": [
    "In the example above, model1 would have a precision of 100 / 500, or 0.2 and model 2 would have a precision of 100 / 5000, or 0.02. This is often more characteristic of how well a model is performing."
   ]
  },
  {
   "cell_type": "markdown",
   "metadata": {},
   "source": [
    "Like sensitivity and specifciity, this is also only available after a threshold has already been chosen. The analogue to the Receiver Operating Characterstic is known as the Precision-Recall Curve.\n",
    "\n",
    "The precision-recall curve positions the precision on the y-axis while the recall is on the x-axis. Let's see an example of this curve."
   ]
  },
  {
   "cell_type": "code",
   "execution_count": 47,
   "metadata": {},
   "outputs": [],
   "source": [
    "prec1, rec1, thresholds1 = metrics.precision_recall_curve(model1_predictions['outcome'].values, model1_predictions['prediction'].values)"
   ]
  },
  {
   "cell_type": "code",
   "execution_count": 48,
   "metadata": {},
   "outputs": [],
   "source": [
    "prec2, rec2, thresholds2, = metrics.precision_recall_curve(model2_predictions['outcome'].values, model2_predictions['prediction'].values)"
   ]
  },
  {
   "cell_type": "code",
   "execution_count": 54,
   "metadata": {},
   "outputs": [
    {
     "data": {
      "image/png": "[encoded data removed]",
      "text/plain": [
       "<Figure size 432x288 with 1 Axes>"
      ]
     },
     "metadata": {
      "needs_background": "light"
     },
     "output_type": "display_data"
    }
   ],
   "source": [
    "plt.plot(prec1, rec1, label = \"Model1\")\n",
    "plt.plot(prec2, rec2, label = \"Model2\")\n",
    "plt.xlabel(\"Recall\")\n",
    "plt.ylabel(\"Precision\")\n",
    "plt.title(\"Precision-Recall Curves\")\n",
    "plt.legend()\n",
    "plt.show()"
   ]
  },
  {
   "cell_type": "markdown",
   "metadata": {},
   "source": [
    "Here, we can see that as the precision of a classifier drops (meaning the threshold is set lower and lower), we allow more false positives (lower precision), but we also capture more of the positives in the total set (culminating in perfect recall).\n",
    "\n",
    "The goal is now to reach the top right corner, where we have simultaneously high precision and recall. However, as with most models, this goal is unattainable. The benefits of the Precision-Recall curve, however, is that it works even when there is a large class imbalance, and many have argued that it should replace AUC in these settings. \n",
    "\n",
    "One derived metric from the precision-recall curve is the Area under the Precision Recall Curve (AUPR). This is more commonly known as the Average Precision. There are many implementations of this available, which we demonstrate."
   ]
  },
  {
   "cell_type": "code",
   "execution_count": 58,
   "metadata": {},
   "outputs": [
    {
     "data": {
      "text/plain": [
       "0.22938673077910499"
      ]
     },
     "execution_count": 58,
     "metadata": {},
     "output_type": "execute_result"
    }
   ],
   "source": [
    "metrics.average_precision_score(model1_predictions['outcome'].values, model1_predictions['prediction'].values)"
   ]
  },
  {
   "cell_type": "code",
   "execution_count": 59,
   "metadata": {},
   "outputs": [
    {
     "data": {
      "text/plain": [
       "0.1744171591240456"
      ]
     },
     "execution_count": 59,
     "metadata": {},
     "output_type": "execute_result"
    }
   ],
   "source": [
    "metrics.average_precision_score(model2_predictions['outcome'].values, model2_predictions['prediction'].values)"
   ]
  },
  {
   "cell_type": "markdown",
   "metadata": {},
   "source": [
    "A model whose recall increased linearly as the precision decreased linearly would have a Average Precision of 0.5. It seems that this model is correctly classifying easy-to-classify examples, but then as the threshold is dropped the precision drops fairly quickly. "
   ]
  },
  {
   "cell_type": "markdown",
   "metadata": {},
   "source": [
    "## Other Metrics and Considerations"
   ]
  },
  {
   "cell_type": "markdown",
   "metadata": {},
   "source": [
    "#### F-Measure"
   ]
  },
  {
   "cell_type": "markdown",
   "metadata": {},
   "source": [
    "The $F1$ Score is another metric that is often considered in these settings. The $F1$ scores is given by:\n",
    "\n",
    "$$ 2 * \\frac{precision * recall}{precision + recall} $$\n",
    "\n",
    "In other words, it is the harmonic mean of the precision and recall."
   ]
  },
  {
   "cell_type": "markdown",
   "metadata": {},
   "source": [
    "This measure places equal importance on both the precision and the recall. The generalized form of the F-measure is given by:\n",
    "\n",
    "$$F_\\beta = (1 + \\beta^2) * \\frac{precision * recall}{(\\beta^2*precision) + recall} $$"
   ]
  },
  {
   "cell_type": "markdown",
   "metadata": {},
   "source": [
    "This can also be written in terms of true positive and false positives + negatives:"
   ]
  },
  {
   "cell_type": "markdown",
   "metadata": {},
   "source": [
    "$$ F_\\beta = \\frac{(1+\\beta^2) * TP}{(1+\\beta^2) * TP + \\beta^2 * FN + FP} $$"
   ]
  },
  {
   "cell_type": "markdown",
   "metadata": {},
   "source": [
    "For example the $F_2$ measure places twice the importance on recall than precision and the $F_0.5$ measure weighs recall less than precision."
   ]
  },
  {
   "cell_type": "markdown",
   "metadata": {},
   "source": [
    "#### Precision-at-K"
   ]
  },
  {
   "cell_type": "markdown",
   "metadata": {},
   "source": [
    "Another measure that is useful for measuring the performance of binary classification models is the *precision-at-K* measure. Rather than considering the precision over the entire dataset, it can be useful to look at the precision at specific values. This is most important when there is an associated workflow that can help inform the choice of $k$. For example, let us say that there are 100,000 patients which need to be screened for a particular disease. Rather than trying to assess the precision of the model at all possible thresholds, it may make sense to limit the dataset to the top 2,000 patients since it is unlikely that more than 2,000 patients will actually be reviewed. In this setting, precision-at-2000 may be the most useful metric since it mimics the actual workflow of screening the patients."
   ]
  },
  {
   "cell_type": "code",
   "execution_count": null,
   "metadata": {},
   "outputs": [],
   "source": []
  }
 ],
 "metadata": {
  "kernelspec": {
   "display_name": "Python 3",
   "language": "python",
   "name": "python3"
  },
  "language_info": {
   "codemirror_mode": {
    "name": "ipython",
    "version": 3
   },
   "file_extension": ".py",
   "mimetype": "text/x-python",
   "name": "python",
   "nbconvert_exporter": "python",
   "pygments_lexer": "ipython3",
   "version": "3.7.2"
  }
 },
 "nbformat": 4,
 "nbformat_minor": 2
}
