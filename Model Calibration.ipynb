{
 "cells": [
  {
   "cell_type": "markdown",
   "metadata": {},
   "source": [
    "## Model Output for Users"
   ]
  },
  {
   "cell_type": "markdown",
   "metadata": {},
   "source": [
    "In the previous lesson, we looked at different ways to evaluate binary classification models. Now, we have the tools to compare different models that we run and can evaluate tradeoffs between them. However, often the concern for implementation of these models is how to display results to an end-user of some sort. "
   ]
  },
  {
   "cell_type": "markdown",
   "metadata": {},
   "source": [
    "## Calibration"
   ]
  },
  {
   "cell_type": "markdown",
   "metadata": {},
   "source": [
    "One of the most common concerns for model outputs is whether they are *calibrated* or not. To understand what calibration is, it is useful to think of weather forecasting.\n",
    "\n",
    "When the weather forecaster says, \"There is an 80% chance of rain tomorrow,\" how is it possible to evaluate whether or not there is an 80% chance of rain? Since it only either rains or does not rain, only looking at once outcome does not determine whether or not the weather forecaster is correct or not. The weather forecaster could have estimated a 70% or 90% chance of rain instead. \n",
    "\n",
    "This is the general problem of calibration. A *well-calibrated* probability prediction is one where the long-term proportion of positive cases is close to the predicted probability. In the weather forecasting example, of all the times that the weather forecaster predicts 80% chance of rain, if the true proportion is close to 80%, then the weather forecaster is said to be *well-calibrated*. \n",
    "\n",
    "It turns out that many machine learning models, although they optimize for being able to discriminate between positive and negative examples, do *not* optimize for model calibration."
   ]
  },
  {
   "cell_type": "markdown",
   "metadata": {
    "slideshow": {
     "slide_type": "slide"
    }
   },
   "source": [
    "if model output is being displayed to users, it is recommended that the model be calibrated in order to not mislead the end users."
   ]
  },
  {
   "cell_type": "markdown",
   "metadata": {},
   "source": [
    "## Assessing Calibration"
   ]
  },
  {
   "cell_type": "markdown",
   "metadata": {},
   "source": [
    "The easiest way to assess whether or not a model is well-calibrated is to use a calibration plot (also known as a reliability plot). A calibration plot is simply a plot that has the predicted probabilities on the y-axis and the actual observed proportions of events on the x-axis. Because there may not be enough data points to have a stable proportion, often the data is binned into deciles (0-10%, 10-20%, etc.). The predicted probabilities on the y-axis are then usually represented as the middle of the decile (5%, 15%, etc.). "
   ]
  },
  {
   "cell_type": "markdown",
   "metadata": {},
   "source": [
    "A perfectly calibrated classifier would fall exactly on the y=x line (meaning that the predicted probabilities are exactly the observed probabilities). However, in practice this is rarely the case, and it sensitive to the model type as well as the overall prevalence of the outcome."
   ]
  },
  {
   "cell_type": "code",
   "execution_count": 12,
   "metadata": {},
   "outputs": [],
   "source": [
    "import pandas as pd \n",
    "example_output1 = pd.read_csv(\"./assets/example_risks.csv\")"
   ]
  },
  {
   "cell_type": "code",
   "execution_count": 13,
   "metadata": {},
   "outputs": [],
   "source": [
    "# y-axis:\n",
    "# For each decile, find the proportion of outcomes that are positive (1)"
   ]
  },
  {
   "cell_type": "code",
   "execution_count": 14,
   "metadata": {},
   "outputs": [],
   "source": [
    "example_y = []\n",
    "for cutoff in range(0, 10):\n",
    "    (example_y.append(\n",
    "        example_output1.loc[(example_output1['Risk'] >= cutoff * 0.1) & \n",
    "                            (example_output1['Risk'] < (cutoff * 0.1 + 0.1)), \n",
    "                            ['Label']].mean().values[0]))"
   ]
  },
  {
   "cell_type": "code",
   "execution_count": 15,
   "metadata": {
    "scrolled": true
   },
   "outputs": [
    {
     "data": {
      "text/plain": [
       "[0.010807545143317446,\n",
       " 0.07692307692307693,\n",
       " 0.125,\n",
       " 0.1556701030927835,\n",
       " 0.1855036855036855,\n",
       " 0.24127906976744187,\n",
       " 0.32367149758454106,\n",
       " 0.31297709923664124,\n",
       " 0.53,\n",
       " 0.6338028169014085]"
      ]
     },
     "execution_count": 15,
     "metadata": {},
     "output_type": "execute_result"
    }
   ],
   "source": [
    "example_y"
   ]
  },
  {
   "cell_type": "code",
   "execution_count": 16,
   "metadata": {},
   "outputs": [],
   "source": [
    "# X-axis:\n",
    "example_x = [0.05, 0.15, 0.25, 0.35, 0.45, 0.55, 0.65, 0.75, 0.85, 0.95]"
   ]
  },
  {
   "cell_type": "code",
   "execution_count": 27,
   "metadata": {
    "scrolled": true
   },
   "outputs": [
    {
     "data": {
      "image/png": "[encoded data removed]",
      "text/plain": [
       "<Figure size 432x288 with 1 Axes>"
      ]
     },
     "metadata": {
      "needs_background": "light"
     },
     "output_type": "display_data"
    }
   ],
   "source": [
    "import matplotlib.pyplot as plt\n",
    "%matplotlib inline\n",
    "\n",
    "plt.scatter(example_x, example_y)\n",
    "plt.plot([1, 0], [1, 0], linestyle = \"--\")\n",
    "plt.xlabel('Predicted Probability')\n",
    "plt.ylabel('Empirical Probability')\n",
    "plt.show()"
   ]
  },
  {
   "cell_type": "code",
   "execution_count": 18,
   "metadata": {},
   "outputs": [],
   "source": [
    "from sklearn.calibration import calibration_curve"
   ]
  },
  {
   "cell_type": "code",
   "execution_count": 28,
   "metadata": {},
   "outputs": [],
   "source": [
    "y_axis, x_axis = calibration_curve(example_output1['Label'].values, example_output1['Risk'], n_bins = 10)"
   ]
  },
  {
   "cell_type": "code",
   "execution_count": 29,
   "metadata": {},
   "outputs": [
    {
     "data": {
      "text/plain": [
       "[<matplotlib.lines.Line2D at 0x7f2f99068f10>]"
      ]
     },
     "execution_count": 29,
     "metadata": {},
     "output_type": "execute_result"
    },
    {
     "data": {
      "image/png": "[encoded data removed]",
      "text/plain": [
       "<Figure size 432x288 with 1 Axes>"
      ]
     },
     "metadata": {
      "needs_background": "light"
     },
     "output_type": "display_data"
    }
   ],
   "source": [
    "plt.scatter(x_axis, y_axis)\n",
    "plt.plot([1,0], [1,0], linestyle = \"--\", color = \"orange\")"
   ]
  },
  {
   "cell_type": "markdown",
   "metadata": {},
   "source": [
    "## Method 1: Platt Scaling"
   ]
  },
  {
   "cell_type": "markdown",
   "metadata": {},
   "source": [
    "Platt Scaling is one method for calibrating machine learning models. Although the original method was applied to a type of model known as a Support Vector Machine, it has become popular for use in general calibration. "
   ]
  },
  {
   "cell_type": "markdown",
   "metadata": {},
   "source": [
    "In general, the approach as defined in the original Platt Scaling [paper](http://citeseer.ist.psu.edu/viewdoc/download;jsessionid=46EC9FD65BED44B0084980AE055DED68?doi=10.1.1.41.1639&rep=rep1&type=pdf) can be thought of as the following:"
   ]
  },
  {
   "cell_type": "markdown",
   "metadata": {},
   "source": [
    "If your model generates an output $f$ (can be any real number), use just the model output along with an intercept and the following logistic regression:"
   ]
  },
  {
   "cell_type": "markdown",
   "metadata": {},
   "source": [
    "$$P(y=1|f) = \\frac{1}{1+exp(-(\\beta_0 + \\beta_1f))}$$"
   ]
  },
  {
   "cell_type": "markdown",
   "metadata": {},
   "source": [
    "In other words, the scaling is simply applying a logistic regression which maps the output value of a model to a value between 0 and 1. In practice, there are several steps that need to be taken to ensure that this works correctly, and it is important to assess how well the calibration actually works (there are cases where this procedure may either work, but decrease the accuracy of the overall model, or fail to address the calibration issue entirely)."
   ]
  },
  {
   "cell_type": "markdown",
   "metadata": {},
   "source": [
    "From Platt (1999), we see that the optimal approach can be described as the following:"
   ]
  },
  {
   "cell_type": "markdown",
   "metadata": {},
   "source": [
    "1. If this logistic regression model is fit using the original training data, it may introduce some bias. Therefore, it makes more sense to fit the calibration logistic regression on the test set.\n",
    "\n",
    "2. Specifically, the following procedure is recommended:\n",
    "    * Perform cross-validation with k-folds in the training set to identify the best values of hyperparameters for the original model\n",
    "    * At each test fold (k total), evaluate the model and *store* the predicted outputs\n",
    "    * Find the best values of the hyperparameters by averaging the error (or other metric) across all folds\n",
    "    * For each run of the model with the best hyperparameters, aggregate the predictions and results over the kth fold. This should result in predictions for every data point in the training set (the models will have been trained on different folds).\n",
    "    * Use these predictions and outcomes to fit the parameters of the logistic regression\n",
    "\n",
    "3. In addition, Platt also argues that rather than using 1 and 0 for the outputs, that different values should be used (In practice, sometimes this does not make a difference)\n",
    " > The probability of the correct label can be derived using Bayes' rule. Let us choose a uniform\n",
    "uninformative prior over probabilities of correct label. Now, let us observe $N_+$ positive examples.\n",
    "The MAP estimate for the target probability of positive examples is:\n",
    "\n",
    "$$ t_+ = \\frac{N_+ + 1}{N_+ + 2} $$\n",
    "\n",
    ">Similarly, if there are $N_-$ negative examples, then the MAP estimate for the target probability\n",
    "of negative examples is\n",
    "$$ t_- = \\frac{1}{N_- + 2} $$\n",
    "\n",
    ">These targets are used instead of 1s and 0s"
   ]
  },
  {
   "cell_type": "markdown",
   "metadata": {},
   "source": [
    "## Method 2: Isotonic Regression"
   ]
  },
  {
   "cell_type": "markdown",
   "metadata": {},
   "source": [
    "The second method for calibration is known as isotonic regression. Isotonic Regression finds a monotonic step function that minimizes some error. The details for this algorithm are beyond the scope of this class. However, the end result is illustrated below."
   ]
  },
  {
   "cell_type": "markdown",
   "metadata": {},
   "source": [
    "![](./assets/isotonic_regression.svg)"
   ]
  },
  {
   "cell_type": "markdown",
   "metadata": {},
   "source": [
    "The use of isotonic regression to calibrate a model is quite simple. Take the predicted outputs from a model and apply isotonic regression to scale the probabilities to be as close as possible to the empirical values.\n",
    "\n",
    "Luckily, the `scikit-learn` package provides useful isotonic regression tools."
   ]
  },
  {
   "cell_type": "code",
   "execution_count": 30,
   "metadata": {},
   "outputs": [],
   "source": [
    "from sklearn.isotonic import IsotonicRegression"
   ]
  },
  {
   "cell_type": "code",
   "execution_count": 31,
   "metadata": {},
   "outputs": [],
   "source": [
    "isotonic_calibration = IsotonicRegression()"
   ]
  },
  {
   "cell_type": "code",
   "execution_count": 32,
   "metadata": {},
   "outputs": [
    {
     "data": {
      "text/plain": [
       "IsotonicRegression(increasing=True, out_of_bounds='nan', y_max=None, y_min=None)"
      ]
     },
     "execution_count": 32,
     "metadata": {},
     "output_type": "execute_result"
    }
   ],
   "source": [
    "isotonic_calibration.fit(example_output1['Risk'], example_output1['Label'])"
   ]
  },
  {
   "cell_type": "code",
   "execution_count": 33,
   "metadata": {},
   "outputs": [
    {
     "data": {
      "text/plain": [
       "<scipy.interpolate.interpolate.interp1d at 0x7f2f9903d0b0>"
      ]
     },
     "execution_count": 33,
     "metadata": {},
     "output_type": "execute_result"
    }
   ],
   "source": [
    "isotonic_calibration.f_"
   ]
  },
  {
   "cell_type": "code",
   "execution_count": 35,
   "metadata": {},
   "outputs": [
    {
     "data": {
      "text/plain": [
       "0        0.066505\n",
       "1        0.001007\n",
       "2        0.000333\n",
       "3        0.000043\n",
       "4        0.103485\n",
       "           ...   \n",
       "66422    0.002037\n",
       "66423    0.107976\n",
       "66424    0.988865\n",
       "66425    0.690056\n",
       "66426    0.108970\n",
       "Name: Risk, Length: 66427, dtype: float64"
      ]
     },
     "execution_count": 35,
     "metadata": {},
     "output_type": "execute_result"
    }
   ],
   "source": [
    "example_output1['Risk']"
   ]
  },
  {
   "cell_type": "code",
   "execution_count": 36,
   "metadata": {
    "scrolled": true
   },
   "outputs": [],
   "source": [
    "new_predictions = isotonic_calibration.f_(example_output1['Risk'].values)"
   ]
  },
  {
   "cell_type": "code",
   "execution_count": 37,
   "metadata": {},
   "outputs": [
    {
     "data": {
      "text/plain": [
       "array([4.82897384e-02, 3.94321767e-04, 3.94321767e-04, ...,\n",
       "       9.00000000e-01, 3.19047619e-01, 6.32014176e-02])"
      ]
     },
     "execution_count": 37,
     "metadata": {},
     "output_type": "execute_result"
    }
   ],
   "source": [
    "new_predictions"
   ]
  },
  {
   "cell_type": "code",
   "execution_count": 38,
   "metadata": {},
   "outputs": [],
   "source": [
    "new_predictions_test = isotonic_calibration.transform(example_output1['Risk'].values)"
   ]
  },
  {
   "cell_type": "code",
   "execution_count": 41,
   "metadata": {},
   "outputs": [],
   "source": [
    "y_axis, x_axis = calibration_curve(example_output1['Label'].values, new_predictions, n_bins = 10)"
   ]
  },
  {
   "cell_type": "markdown",
   "metadata": {},
   "source": [
    "## Note: this is in-sample!"
   ]
  },
  {
   "cell_type": "code",
   "execution_count": 40,
   "metadata": {
    "scrolled": false
   },
   "outputs": [
    {
     "data": {
      "text/plain": [
       "[<matplotlib.lines.Line2D at 0x7f2f9902d210>]"
      ]
     },
     "execution_count": 40,
     "metadata": {},
     "output_type": "execute_result"
    },
    {
     "data": {
      "image/png": "[encoded data removed]",
      "text/plain": [
       "<Figure size 432x288 with 1 Axes>"
      ]
     },
     "metadata": {
      "needs_background": "light"
     },
     "output_type": "display_data"
    }
   ],
   "source": [
    "plt.scatter(x_axis, y_axis)\n",
    "plt.plot([1,0], [1,0], linestyle = \"--\", color = \"orange\")"
   ]
  },
  {
   "cell_type": "markdown",
   "metadata": {},
   "source": [
    "## Brier Score"
   ]
  },
  {
   "cell_type": "markdown",
   "metadata": {},
   "source": [
    "Although calibration can often be assessed from a purely graphical perspective, there are additional metrics that can be used to assess calibration. The most common of these is known as the Brier Score, which is simly the mean square error of the prediction. \n",
    "\n",
    "If the model prediction is given by $f$ and the original label is given by $y$, the Brier Score can be expressed as:\n",
    "\n",
    "$$ \\frac{1}{N}\\sum_{i=1}^{N}(y_i - f_i)^2 $$"
   ]
  },
  {
   "cell_type": "markdown",
   "metadata": {},
   "source": [
    "Although the mean square error is often used for problems where $y_i$ can be any real number, the Brier Score applies to binary classification. The Brier Score can also be extended to multi-class problems, though the binary classification formulation is by far the most popular."
   ]
  }
 ],
 "metadata": {
  "kernelspec": {
   "display_name": "Python 3",
   "language": "python",
   "name": "python3"
  },
  "language_info": {
   "codemirror_mode": {
    "name": "ipython",
    "version": 3
   },
   "file_extension": ".py",
   "mimetype": "text/x-python",
   "name": "python",
   "nbconvert_exporter": "python",
   "pygments_lexer": "ipython3",
   "version": "3.7.4"
  }
 },
 "nbformat": 4,
 "nbformat_minor": 2
}
