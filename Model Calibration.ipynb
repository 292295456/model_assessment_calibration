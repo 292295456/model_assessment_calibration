{
 "cells": [
  {
   "cell_type": "markdown",
   "metadata": {},
   "source": [
    "## Model Output for Users"
   ]
  },
  {
   "cell_type": "markdown",
   "metadata": {},
   "source": [
    "In the previous lesson, we looked at different ways to evaluate binary classification models. Now, we have the tools to compare different models that we run and can evaluate tradeoffs between them. However, often the concern for implementation of these models is how to display results to an end-user of some sort. "
   ]
  },
  {
   "cell_type": "markdown",
   "metadata": {},
   "source": [
    "## Calibration"
   ]
  },
  {
   "cell_type": "markdown",
   "metadata": {},
   "source": [
    "One of the most common concerns for model outputs is whether they are *calibrated* or not. To understand what calibration is, it is useful to think of weather forecasting.\n",
    "\n",
    "When the weather forecaster says, \"There is an 80% chance of rain tomorrow,\" how is it possible to evaluate whether or not there is an 80% chance of rain? Since it only either rains or does not rain, only looking at once outcome does not determine whether or not the weather forecaster is correct or not. The weather forecaster could have estimated a 70% or 90% chance of rain instead. \n",
    "\n",
    "This is the general problem of calibration. A *well-calibrated* probability prediction is one where the long-term proportion of positive cases is close to the predicted probability. In the weather forecasting example, of all the times that the weather forecaster predicts 80% chance of rain, if the true proportion is close to 80%, then the weather forecaster is said to be *well-calibrated*. \n",
    "\n",
    "It turns out that many machine learning models, although they optimize for being able to discriminate between positive and negative examples, do *not* optimize for model calibration."
   ]
  },
  {
   "cell_type": "markdown",
   "metadata": {
    "slideshow": {
     "slide_type": "slide"
    }
   },
   "source": [
    "if model output is being displayed to users, it is recommended that the model be calibrated in order to not mislead the end users."
   ]
  },
  {
   "cell_type": "markdown",
   "metadata": {},
   "source": [
    "## Assessing Calibration"
   ]
  },
  {
   "cell_type": "markdown",
   "metadata": {},
   "source": [
    "The easiest way to assess whether or not a model is well-calibrated is to use a calibration plot (also known as a reliability plot). A calibration plot is simply a plot that has the predicted probabilities on the y-axis and the actual observed proportions of events on the x-axis. Because there may not be enough data points to have a stable proportion, often the data is binned into deciles (0-10%, 10-20%, etc.). The predicted probabilities on the y-axis are then usually represented as the middle of the decile (5%, 15%, etc.). "
   ]
  },
  {
   "cell_type": "markdown",
   "metadata": {},
   "source": [
    "A perfectly calibrated classifier would fall exactly on the y=x line (meaning that the predicted probabilities are exactly the observed probabilities). However, in practice this is rarely the case, and it sensitive to the model type as well as the overall prevalence of the outcome."
   ]
  },
  {
   "cell_type": "code",
   "execution_count": 55,
   "metadata": {},
   "outputs": [],
   "source": [
    "import pandas as pd \n",
    "example_output1 = pd.read_csv(\"./assets/example_output.csv\")"
   ]
  },
  {
   "cell_type": "code",
   "execution_count": 56,
   "metadata": {},
   "outputs": [],
   "source": [
    "example_output1['prediction'] = pd.to_numeric(example_output1['prediction'], errors = 'coerce')"
   ]
  },
  {
   "cell_type": "code",
   "execution_count": 36,
   "metadata": {},
   "outputs": [],
   "source": [
    "# X-axis:\n",
    "# For each decile, find the proportion of outcomes that are positive (1)"
   ]
  },
  {
   "cell_type": "code",
   "execution_count": 37,
   "metadata": {},
   "outputs": [],
   "source": [
    "example_x = []\n",
    "for cutoff in range(0, 10):\n",
    "    (example_x.append(\n",
    "        example_output1.loc[(example_output1['prediction'] >= cutoff * 0.1) & \n",
    "                            (example_output1['prediction'] < (cutoff * 0.1 + 0.1)), \n",
    "                            ['outcome']].mean().values[0]))"
   ]
  },
  {
   "cell_type": "code",
   "execution_count": 38,
   "metadata": {
    "scrolled": true
   },
   "outputs": [
    {
     "data": {
      "text/plain": [
       "[0.014049854321786986,\n",
       " 0.14534883720930233,\n",
       " 0.2079207920792079,\n",
       " 0.20634920634920634,\n",
       " 0.21428571428571427,\n",
       " 0.14285714285714285,\n",
       " 0.5294117647058824,\n",
       " 0.4,\n",
       " 0.5454545454545454,\n",
       " 0.7142857142857143]"
      ]
     },
     "execution_count": 38,
     "metadata": {},
     "output_type": "execute_result"
    }
   ],
   "source": [
    "example_x"
   ]
  },
  {
   "cell_type": "code",
   "execution_count": 39,
   "metadata": {},
   "outputs": [],
   "source": [
    "# Y-axis:\n",
    "example_y = [0.05, 0.15, 0.25, 0.35, 0.45, 0.55, 0.65, 0.75, 0.85, 0.95]"
   ]
  },
  {
   "cell_type": "code",
   "execution_count": 66,
   "metadata": {},
   "outputs": [
    {
     "data": {
      "text/plain": [
       "[<matplotlib.lines.Line2D at 0x1a1b87be80>]"
      ]
     },
     "execution_count": 66,
     "metadata": {},
     "output_type": "execute_result"
    },
    {
     "data": {
      "image/png": "[encoded data removed]",
      "text/plain": [
       "<Figure size 432x288 with 1 Axes>"
      ]
     },
     "metadata": {
      "needs_background": "light"
     },
     "output_type": "display_data"
    }
   ],
   "source": [
    "import matplotlib.pyplot as plt\n",
    "%matplotlib inline\n",
    "\n",
    "plt.scatter(example_x, example_y)\n",
    "plt.plot([1, 0], [1, 0], linestyle = \"--\")"
   ]
  },
  {
   "cell_type": "code",
   "execution_count": 63,
   "metadata": {},
   "outputs": [],
   "source": [
    "from sklearn.calibration import calibration_curve"
   ]
  },
  {
   "cell_type": "code",
   "execution_count": 64,
   "metadata": {},
   "outputs": [],
   "source": [
    "x_axis, y_axis = calibration_curve(example_output1['outcome'].values, example_output1['prediction'], n_bins = 10)"
   ]
  },
  {
   "cell_type": "code",
   "execution_count": 71,
   "metadata": {},
   "outputs": [
    {
     "data": {
      "text/plain": [
       "[<matplotlib.lines.Line2D at 0x1a1c0d1cc0>]"
      ]
     },
     "execution_count": 71,
     "metadata": {},
     "output_type": "execute_result"
    },
    {
     "data": {
      "image/png": "[encoded data removed]",
      "text/plain": [
       "<Figure size 432x288 with 1 Axes>"
      ]
     },
     "metadata": {
      "needs_background": "light"
     },
     "output_type": "display_data"
    }
   ],
   "source": [
    "plt.scatter(x_axis, y_axis)\n",
    "plt.plot([1,0], [1,0], linestyle = \"--\", color = \"orange\")"
   ]
  },
  {
   "cell_type": "markdown",
   "metadata": {},
   "source": [
    "## Method 1: Platt Scaling"
   ]
  },
  {
   "cell_type": "markdown",
   "metadata": {},
   "source": [
    "Platt Scaling is one method for calibrating machine learning models. Although the original method was applied to a type of model known as a Support Vector Machine, it has become popular for use in general calibration. "
   ]
  },
  {
   "cell_type": "markdown",
   "metadata": {},
   "source": [
    "In general, the approach as defined in the original Platt Scaling [paper](http://citeseer.ist.psu.edu/viewdoc/download;jsessionid=46EC9FD65BED44B0084980AE055DED68?doi=10.1.1.41.1639&rep=rep1&type=pdf) can be thought of as the following:"
   ]
  },
  {
   "cell_type": "markdown",
   "metadata": {},
   "source": [
    "If your model generates an output $f$ (can be any real number), use just the model output along with an intercept and the following logistic regression:"
   ]
  },
  {
   "cell_type": "markdown",
   "metadata": {},
   "source": [
    "$$P(y=1|f) = \\frac{1}{1+exp(-(\\beta_0 + \\beta_1f))}$$"
   ]
  },
  {
   "cell_type": "markdown",
   "metadata": {},
   "source": [
    "In other words, the scaling is simply applying a logistic regression which maps the output value of a model to a value between 0 and 1. In practice, there are several steps that need to be taken to ensure that this works correctly, and it is important to assess how well the calibration actually works (there are cases where this procedure may either work, but decrease the accuracy of the overall model, or fail to address the calibration issue entirely)."
   ]
  },
  {
   "cell_type": "markdown",
   "metadata": {},
   "source": [
    "From Platt (1999), we see that the optimal approach can be described as the following:"
   ]
  },
  {
   "cell_type": "markdown",
   "metadata": {},
   "source": [
    "1. If this logistic regression model is fit using the original training data, it may introduce some bias. Therefore, it makes more sense to fit the calibration logistic regression on the test set.\n",
    "\n",
    "2. Specifically, the following procedure is recommended:\n",
    "    * Perform cross-validation with k-folds in the training set to identify the best values of hyperparameters for the original model\n",
    "    * At each test fold (k total), evaluate the model and *store* the predicted outputs\n",
    "    * Find the best values of the hyperparameters by averaging the error (or other metric) across all folds\n",
    "    * For each run of the model with the best hyperparameters, aggregate the predictions and results over the kth fold. This should result in predictions for every data point in the training set (the models will have been trained on different folds).\n",
    "    * Use these predictions and outcomes to fit the parameters of the logistic regression\n",
    "\n",
    "3. In addition, Platt also argues that rather than using 1 and 0 for the outputs, that different values should be used (In practice, sometimes this does not make a difference)\n",
    " > The probability of the correct label can be derived using Bayes' rule. Let us choose a uniform\n",
    "uninformative prior over probabilities of correct label. Now, let us observe $N_+$ positive examples.\n",
    "The MAP estimate for the target probability of positive examples is:\n",
    "\n",
    "$$ t_+ = \\frac{N_+ + 1}{N_+ + 2} $$\n",
    "\n",
    ">Similarly, if there are $N_-$ negative examples, then the MAP estimate for the target probability\n",
    "of negative examples is\n",
    "$$ t_- = \\frac{1}{N_- + 2} $$\n",
    "\n",
    ">These targets are used instead of 1s and 0s"
   ]
  },
  {
   "cell_type": "markdown",
   "metadata": {},
   "source": [
    "## Method 2: Isotonic Regression"
   ]
  },
  {
   "cell_type": "markdown",
   "metadata": {},
   "source": [
    "The second method for calibration is known as isotonic regression. Isotonic Regression finds a monotonic step function that minimizes some error. The details for this algorithm are beyond the scope of this class. However, the end result is illustrated below."
   ]
  },
  {
   "cell_type": "markdown",
   "metadata": {},
   "source": [
    "![](./assets/isotonic_regression.svg)"
   ]
  },
  {
   "cell_type": "markdown",
   "metadata": {},
   "source": [
    "The use of isotonic regression to calibrate a model is quite simple. Take the predicted outputs from a model and apply isotonic regression to scale the probabilities to be as close as possible to the empirical values.\n",
    "\n",
    "Luckily, the `scikit-learn` package provides useful isotonic regression tools."
   ]
  },
  {
   "cell_type": "code",
   "execution_count": 72,
   "metadata": {},
   "outputs": [],
   "source": [
    "from sklearn.isotonic import IsotonicRegression"
   ]
  },
  {
   "cell_type": "code",
   "execution_count": 73,
   "metadata": {},
   "outputs": [],
   "source": [
    "isotonic_calibration = IsotonicRegression()"
   ]
  },
  {
   "cell_type": "code",
   "execution_count": 102,
   "metadata": {},
   "outputs": [
    {
     "data": {
      "text/plain": [
       "IsotonicRegression(increasing=True, out_of_bounds='nan', y_max=None,\n",
       "          y_min=None)"
      ]
     },
     "execution_count": 102,
     "metadata": {},
     "output_type": "execute_result"
    }
   ],
   "source": [
    "isotonic_calibration.fit(example_output1['prediction'], example_output1['outcome'])"
   ]
  },
  {
   "cell_type": "code",
   "execution_count": 103,
   "metadata": {},
   "outputs": [
    {
     "data": {
      "text/plain": [
       "<scipy.interpolate.interpolate.interp1d at 0x1a1c0f7cc8>"
      ]
     },
     "execution_count": 103,
     "metadata": {},
     "output_type": "execute_result"
    }
   ],
   "source": [
    "isotonic_calibration.f_"
   ]
  },
  {
   "cell_type": "code",
   "execution_count": 104,
   "metadata": {},
   "outputs": [
    {
     "data": {
      "text/plain": [
       "0        0.988018\n",
       "1        0.986377\n",
       "2        0.981420\n",
       "3        0.980582\n",
       "4        0.975002\n",
       "5        0.952916\n",
       "6        0.929478\n",
       "7        0.913755\n",
       "8        0.908941\n",
       "9        0.900041\n",
       "10       0.897301\n",
       "11       0.877191\n",
       "12       0.871930\n",
       "13       0.858578\n",
       "14       0.857898\n",
       "15       0.844648\n",
       "16       0.838386\n",
       "17       0.837858\n",
       "18       0.822572\n",
       "19       0.808419\n",
       "20       0.788154\n",
       "21       0.771540\n",
       "22       0.738663\n",
       "23       0.732124\n",
       "24       0.705606\n",
       "25       0.683181\n",
       "26       0.675663\n",
       "27       0.664319\n",
       "28       0.653225\n",
       "29       0.617853\n",
       "           ...   \n",
       "13634    0.000120\n",
       "13635    0.000119\n",
       "13636    0.000115\n",
       "13637    0.000114\n",
       "13638    0.000112\n",
       "13639    0.000111\n",
       "13640    0.000110\n",
       "13641    0.000110\n",
       "13642    0.000104\n",
       "13643    0.000104\n",
       "13644    0.000102\n",
       "13645    0.000100\n",
       "13646    0.000097\n",
       "13647    0.000097\n",
       "13648    0.000095\n",
       "13649    0.000095\n",
       "13650    0.000095\n",
       "13651    0.000095\n",
       "13652    0.000090\n",
       "13653    0.000087\n",
       "13654    0.000085\n",
       "13655    0.000081\n",
       "13656    0.000081\n",
       "13657    0.000081\n",
       "13658    0.000075\n",
       "13659    0.000071\n",
       "13660    0.000064\n",
       "13661    0.000063\n",
       "13662    0.000063\n",
       "13663    0.000062\n",
       "Name: prediction, Length: 13664, dtype: float64"
      ]
     },
     "execution_count": 104,
     "metadata": {},
     "output_type": "execute_result"
    }
   ],
   "source": [
    "example_output1['prediction']"
   ]
  },
  {
   "cell_type": "code",
   "execution_count": 105,
   "metadata": {
    "scrolled": true
   },
   "outputs": [],
   "source": [
    "new_predictions = isotonic_calibration.f_(example_output1['prediction'].values)"
   ]
  },
  {
   "cell_type": "code",
   "execution_count": 106,
   "metadata": {},
   "outputs": [
    {
     "data": {
      "text/plain": [
       "array([1., 1., 1., ..., 0., 0., 0.])"
      ]
     },
     "execution_count": 106,
     "metadata": {},
     "output_type": "execute_result"
    }
   ],
   "source": [
    "new_predictions"
   ]
  },
  {
   "cell_type": "code",
   "execution_count": 116,
   "metadata": {},
   "outputs": [],
   "source": [
    "new_predictions_test = isotonic_calibration.transform(example_output1['prediction'].values)"
   ]
  },
  {
   "cell_type": "code",
   "execution_count": 107,
   "metadata": {},
   "outputs": [],
   "source": [
    "x_axis, y_axis = calibration_curve(example_output1['outcome'].values, new_predictions, n_bins = 10)"
   ]
  },
  {
   "cell_type": "code",
   "execution_count": 108,
   "metadata": {},
   "outputs": [
    {
     "data": {
      "text/plain": [
       "[<matplotlib.lines.Line2D at 0x1a1be99a20>]"
      ]
     },
     "execution_count": 108,
     "metadata": {},
     "output_type": "execute_result"
    },
    {
     "data": {
      "image/png": "[encoded data removed]",
      "text/plain": [
       "<Figure size 432x288 with 1 Axes>"
      ]
     },
     "metadata": {
      "needs_background": "light"
     },
     "output_type": "display_data"
    }
   ],
   "source": [
    "plt.scatter(x_axis, y_axis)\n",
    "plt.plot([1,0], [1,0], linestyle = \"--\", color = \"orange\")"
   ]
  },
  {
   "cell_type": "code",
   "execution_count": 109,
   "metadata": {},
   "outputs": [],
   "source": [
    "example_output2 = pd.read_csv(\"./assets/example_output2.csv\")"
   ]
  },
  {
   "cell_type": "code",
   "execution_count": 112,
   "metadata": {},
   "outputs": [
    {
     "data": {
      "text/html": [
       "<div>\n",
       "<style scoped>\n",
       "    .dataframe tbody tr th:only-of-type {\n",
       "        vertical-align: middle;\n",
       "    }\n",
       "\n",
       "    .dataframe tbody tr th {\n",
       "        vertical-align: top;\n",
       "    }\n",
       "\n",
       "    .dataframe thead th {\n",
       "        text-align: right;\n",
       "    }\n",
       "</style>\n",
       "<table border=\"1\" class=\"dataframe\">\n",
       "  <thead>\n",
       "    <tr style=\"text-align: right;\">\n",
       "      <th></th>\n",
       "      <th>outcome</th>\n",
       "      <th>prediction</th>\n",
       "    </tr>\n",
       "  </thead>\n",
       "  <tbody>\n",
       "    <tr>\n",
       "      <th>0</th>\n",
       "      <td>0</td>\n",
       "      <td>0.983176</td>\n",
       "    </tr>\n",
       "    <tr>\n",
       "      <th>1</th>\n",
       "      <td>1</td>\n",
       "      <td>0.972331</td>\n",
       "    </tr>\n",
       "    <tr>\n",
       "      <th>2</th>\n",
       "      <td>1</td>\n",
       "      <td>0.932701</td>\n",
       "    </tr>\n",
       "    <tr>\n",
       "      <th>3</th>\n",
       "      <td>0</td>\n",
       "      <td>0.908685</td>\n",
       "    </tr>\n",
       "    <tr>\n",
       "      <th>4</th>\n",
       "      <td>1</td>\n",
       "      <td>0.907392</td>\n",
       "    </tr>\n",
       "  </tbody>\n",
       "</table>\n",
       "</div>"
      ],
      "text/plain": [
       "   outcome  prediction\n",
       "0        0    0.983176\n",
       "1        1    0.972331\n",
       "2        1    0.932701\n",
       "3        0    0.908685\n",
       "4        1    0.907392"
      ]
     },
     "execution_count": 112,
     "metadata": {},
     "output_type": "execute_result"
    }
   ],
   "source": [
    "example_output2.head()"
   ]
  },
  {
   "cell_type": "code",
   "execution_count": 114,
   "metadata": {},
   "outputs": [],
   "source": [
    "held_out_set_predictions = isotonic_calibration.f_(example_output2['prediction'])"
   ]
  },
  {
   "cell_type": "code",
   "execution_count": 123,
   "metadata": {},
   "outputs": [
    {
     "name": "stderr",
     "output_type": "stream",
     "text": [
      "/anaconda3/lib/python3.7/site-packages/numpy/core/_methods.py:32: RuntimeWarning: invalid value encountered in reduce\n",
      "  return umr_minimum(a, axis, None, out, keepdims, initial)\n",
      "/anaconda3/lib/python3.7/site-packages/numpy/core/_methods.py:28: RuntimeWarning: invalid value encountered in reduce\n",
      "  return umr_maximum(a, axis, None, out, keepdims, initial)\n"
     ]
    }
   ],
   "source": [
    "x_axis, y_axis = calibration_curve(example_output2['outcome'].values, held_out_set_predictions, n_bins = 10)"
   ]
  },
  {
   "cell_type": "code",
   "execution_count": 124,
   "metadata": {},
   "outputs": [
    {
     "data": {
      "text/plain": [
       "<matplotlib.collections.PathCollection at 0x117eba0f0>"
      ]
     },
     "execution_count": 124,
     "metadata": {},
     "output_type": "execute_result"
    },
    {
     "data": {
      "image/png": "[encoded data removed]",
      "text/plain": [
       "<Figure size 432x288 with 1 Axes>"
      ]
     },
     "metadata": {
      "needs_background": "light"
     },
     "output_type": "display_data"
    }
   ],
   "source": [
    "plt.scatter(x_axis, y_axis)"
   ]
  },
  {
   "cell_type": "markdown",
   "metadata": {},
   "source": [
    "## Brier Score"
   ]
  },
  {
   "cell_type": "markdown",
   "metadata": {},
   "source": [
    "Although calibration can often be assessed from a purely graphical perspective, there are additional metrics that can be used to assess calibration. The most common of these is known as the Brier Score, which is simly the mean square error of the prediction. \n",
    "\n",
    "If the model prediction is given by $f$ and the original label is given by $y$, the Brier Score can be expressed as:\n",
    "\n",
    "$$ \\frac{1}{N}\\sum_{i=1}^{N}(y_i - f_i)^2 $$"
   ]
  },
  {
   "cell_type": "markdown",
   "metadata": {},
   "source": [
    "Although the mean square error is often used for problems where $y_i$ can be any real number, the Brier Score applies to binary classification. The Brier Score can also be extended to multi-class problems, though the binary classification formulation is by far the most popular."
   ]
  }
 ],
 "metadata": {
  "kernelspec": {
   "display_name": "Python 3",
   "language": "python",
   "name": "python3"
  },
  "language_info": {
   "codemirror_mode": {
    "name": "ipython",
    "version": 3
   },
   "file_extension": ".py",
   "mimetype": "text/x-python",
   "name": "python",
   "nbconvert_exporter": "python",
   "pygments_lexer": "ipython3",
   "version": "3.7.2"
  }
 },
 "nbformat": 4,
 "nbformat_minor": 2
}
